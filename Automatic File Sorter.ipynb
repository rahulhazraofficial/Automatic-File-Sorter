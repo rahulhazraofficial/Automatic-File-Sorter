{
 "cells": [
  {
   "cell_type": "markdown",
   "id": "819d7f5a",
   "metadata": {},
   "source": [
    "# Automatic File Sorter for Excel/Text/Image/PDF"
   ]
  },
  {
   "cell_type": "code",
   "execution_count": 12,
   "id": "b66f7c97",
   "metadata": {},
   "outputs": [],
   "source": [
    "import os, shutil\n",
    "\n",
    "path = r\"R:/Project Files/Python Project/Auto File Sorter/\"\n",
    "\n",
    "file_name = os.listdir(path)\n",
    "\n",
    "\n",
    "folder_names = ['Excel', 'Image', 'Text', 'PDF']\n",
    "\n",
    "for loop in range (0,4):\n",
    "    if not os.path.exists (path + folder_names[loop]):\n",
    "        os.makedirs (path + folder_names[loop])\n",
    "        #print (path + folder_names[loop])\n",
    "        \n",
    "for file in file_name:\n",
    "    if \".csv\" in file and not os.path.exists (path + \"Excel/\" + file):\n",
    "        shutil.move (path + file, path + \"Excel/\" + file)\n",
    "    elif \".xlsx\" in file and not os.path.exists (path + \"Excel/\" + file):\n",
    "        shutil.move (path + file, path + \"Excel/\" + file)\n",
    "    elif \".jpg\" in file and not os.path.exists (path + \"Image/\" + file):\n",
    "        shutil.move (path + file, path + \"Image/\" + file)\n",
    "    elif \".png\" in file and not os.path.exists (path + \"Image/\" + file):\n",
    "        shutil.move (path + file, path + \"Image/\" + file)\n",
    "    elif \".jpeg\" in file and not os.path.exists (path + \"Image/\" + file):\n",
    "        shutil.move (path + file, path + \"Image/\" + file)\n",
    "    elif \".txt\" in file and not os.path.exists (path + \"Text/\" + file):\n",
    "        shutil.move (path + file, path + \"Text/\" + file)\n",
    "    elif \".docx\" in file and not os.path.exists (path + \"Text/\" + file):\n",
    "        shutil.move (path + file, path + \"Text/\" + file)\n",
    "    elif \".pdf\" in file and not os.path.exists (path + \"PDF/\" + file):\n",
    "        shutil.move (path + file, path + \"PDF/\" + file)"
   ]
  }
 ],
 "metadata": {
  "kernelspec": {
   "display_name": "Python 3 (ipykernel)",
   "language": "python",
   "name": "python3"
  },
  "language_info": {
   "codemirror_mode": {
    "name": "ipython",
    "version": 3
   },
   "file_extension": ".py",
   "mimetype": "text/x-python",
   "name": "python",
   "nbconvert_exporter": "python",
   "pygments_lexer": "ipython3",
   "version": "3.10.9"
  }
 },
 "nbformat": 4,
 "nbformat_minor": 5
}
